{
 "cells": [
  {
   "cell_type": "markdown",
   "metadata": {},
   "source": [
    "Lambda School Data Science\n",
    "\n",
    "*Unit 2, Sprint 3, Module 3*\n",
    "\n",
    "---"
   ]
  },
  {
   "cell_type": "code",
   "execution_count": 1,
   "metadata": {},
   "outputs": [],
   "source": [
    "%%capture\n",
    "import sys\n",
    "\n",
    "# If you're on Colab:\n",
    "if 'google.colab' in sys.modules:\n",
    "    DATA_PATH = 'https://raw.githubusercontent.com/LambdaSchool/DS-Unit-2-Applied-Modeling/master/data/'\n",
    "    !pip install category_encoders==2.*\n",
    "    !pip install eli5\n",
    "\n",
    "# If you're working locally:\n",
    "else:\n",
    "    DATA_PATH = '../data/'"
   ]
  },
  {
   "cell_type": "markdown",
   "metadata": {},
   "source": [
    "# Boosting and Permutation Importance\n",
    "\n",
    "- Use xgboost for **gradient boosting**\n",
    "- Get **permutation importances** for model interpretation and feature selection"
   ]
  },
  {
   "cell_type": "markdown",
   "metadata": {},
   "source": [
    "# Wrangle Data\n",
    "\n",
    "## Import"
   ]
  },
  {
   "cell_type": "code",
   "execution_count": 2,
   "metadata": {},
   "outputs": [],
   "source": [
    "import pandas as pd\n",
    "import numpy as np\n",
    "\n",
    "# Merge train_features.csv & train_labels.csv\n",
    "df = pd.merge(pd.read_csv(DATA_PATH+'waterpumps/train_features.csv', na_values=[0, -2.000000e-08]), \n",
    "              pd.read_csv(DATA_PATH+'waterpumps/train_labels.csv')).set_index('id')"
   ]
  },
  {
   "cell_type": "markdown",
   "metadata": {},
   "source": [
    "## Wrangle Function"
   ]
  },
  {
   "cell_type": "code",
   "execution_count": 3,
   "metadata": {},
   "outputs": [],
   "source": [
    "def wrangle(X):\n",
    "    # Make a copy\n",
    "    X = X.copy()\n",
    "\n",
    "    # Drop high cardinality cols\n",
    "    high_card_cols = [col for col in X.select_dtypes('object').columns\n",
    "                      if X[col].nunique() > 100]\n",
    "\n",
    "    X.drop(columns=high_card_cols, inplace=True)\n",
    "\n",
    "    # Drop repeated columns\n",
    "    cols = ['extraction_type_group', 'quantity']\n",
    "    X.drop(columns=cols, inplace=True)\n",
    "\n",
    "    return X"
   ]
  },
  {
   "cell_type": "code",
   "execution_count": 4,
   "metadata": {},
   "outputs": [],
   "source": [
    "df = wrangle(df)"
   ]
  },
  {
   "cell_type": "markdown",
   "metadata": {},
   "source": [
    "# Split Data"
   ]
  },
  {
   "cell_type": "code",
   "execution_count": 6,
   "metadata": {},
   "outputs": [],
   "source": [
    "# Split our feature matrix and target vector\n",
    "y = df['status_group']\n",
    "X = df.drop('status_group', axis=1)"
   ]
  },
  {
   "cell_type": "code",
   "execution_count": 7,
   "metadata": {},
   "outputs": [],
   "source": [
    "# Train-validation split\n",
    "from sklearn.model_selection import train_test_split\n",
    "\n",
    "X_train, X_val, y_train, y_val = train_test_split(X, y, test_size=0.2, random_state=42)"
   ]
  },
  {
   "cell_type": "markdown",
   "metadata": {},
   "source": [
    "# Establish Baseline"
   ]
  },
  {
   "cell_type": "code",
   "execution_count": 8,
   "metadata": {},
   "outputs": [
    {
     "name": "stdout",
     "output_type": "stream",
     "text": [
      "Baseline Accuracy: 0.5425829668132747\n"
     ]
    }
   ],
   "source": [
    "print('Baseline Accuracy:', y_train.value_counts(normalize=True).max())"
   ]
  },
  {
   "cell_type": "markdown",
   "metadata": {},
   "source": [
    "# Build Model"
   ]
  },
  {
   "cell_type": "code",
   "execution_count": 9,
   "metadata": {},
   "outputs": [],
   "source": [
    "from category_encoders import OrdinalEncoder\n",
    "from sklearn.ensemble import GradientBoostingClassifier\n",
    "from sklearn.impute import SimpleImputer\n",
    "from sklearn.pipeline import make_pipeline\n",
    "from xgboost import XGBClassifier"
   ]
  },
  {
   "cell_type": "code",
   "execution_count": 10,
   "metadata": {},
   "outputs": [],
   "source": [
    "model_skgb = make_pipeline(\n",
    "    OrdinalEncoder(),\n",
    "    SimpleImputer(),\n",
    "    GradientBoostingClassifier(random_state=42)\n",
    ")\n",
    "\n",
    "model_skgb.fit(X_train, y_train);"
   ]
  },
  {
   "cell_type": "code",
   "execution_count": 11,
   "metadata": {},
   "outputs": [],
   "source": [
    "model_xgb = make_pipeline(\n",
    "    OrdinalEncoder(),\n",
    "    SimpleImputer(),\n",
    "    XGBClassifier(random_state=42, n_jobs=10)\n",
    ")\n",
    "\n",
    "model_xgb.fit(X_train, y_train);"
   ]
  },
  {
   "cell_type": "markdown",
   "metadata": {},
   "source": [
    "# Check Metrics"
   ]
  },
  {
   "cell_type": "code",
   "execution_count": 12,
   "metadata": {},
   "outputs": [
    {
     "name": "stdout",
     "output_type": "stream",
     "text": [
      "sklearn Training Accuracy: 0.7505629327216482\n",
      "sklearn Validation Accuracy: 0.7522727272727273\n"
     ]
    }
   ],
   "source": [
    "print('sklearn Training Accuracy:', model_skgb.score(X_train, y_train))\n",
    "print('sklearn Validation Accuracy:', model_skgb.score(X_val, y_val))"
   ]
  },
  {
   "cell_type": "code",
   "execution_count": 13,
   "metadata": {},
   "outputs": [
    {
     "name": "stdout",
     "output_type": "stream",
     "text": [
      "XGBoost Training Accuracy: 0.8408636545381847\n",
      "XGBoost Validation Accuracy: 0.7988215488215489\n"
     ]
    }
   ],
   "source": [
    "print('XGBoost Training Accuracy:', model_xgb.score(X_train, y_train))\n",
    "print('XGBoost Validation Accuracy:', model_xgb.score(X_val, y_val))"
   ]
  },
  {
   "cell_type": "markdown",
   "metadata": {},
   "source": [
    "# Tuning / Communication\n",
    "\n",
    "- How can we determine or communicate which features are most important to our model when making predictions?"
   ]
  },
  {
   "cell_type": "code",
   "execution_count": 14,
   "metadata": {},
   "outputs": [
    {
     "data": {
      "text/plain": [
       "Index(['amount_tsh', 'gps_height', 'longitude', 'latitude', 'num_private',\n",
       "       'basin', 'region', 'region_code', 'district_code', 'population',\n",
       "       'public_meeting', 'recorded_by', 'scheme_management', 'permit',\n",
       "       'construction_year', 'extraction_type', 'extraction_type_class',\n",
       "       'management', 'management_group', 'payment', 'payment_type',\n",
       "       'water_quality', 'quality_group', 'quantity_group', 'source',\n",
       "       'source_type', 'source_class', 'waterpoint_type',\n",
       "       'waterpoint_type_group'],\n",
       "      dtype='object')"
      ]
     },
     "execution_count": 14,
     "metadata": {},
     "output_type": "execute_result"
    }
   ],
   "source": [
    "X_train.columns"
   ]
  },
  {
   "cell_type": "markdown",
   "metadata": {},
   "source": [
    "**Option 1:** Grab feature importances from our pipeline"
   ]
  },
  {
   "cell_type": "code",
   "execution_count": 15,
   "metadata": {},
   "outputs": [
    {
     "data": {
      "image/png": "[encoded data removed]",
      "text/plain": [
       "<Figure size 432x288 with 1 Axes>"
      ]
     },
     "metadata": {
      "needs_background": "light"
     },
     "output_type": "display_data"
    }
   ],
   "source": [
    "import matplotlib.pyplot as plt\n",
    "\n",
    "importances = model_skgb.named_steps['gradientboostingclassifier'].feature_importances_\n",
    "\n",
    "feat_imp = pd.Series(importances, index=X_train.columns).sort_values()\n",
    "feat_imp.tail(10).plot(kind='barh')\n",
    "plt.xlabel('Gini importance')\n",
    "plt.ylabel('Feature')\n",
    "plt.title('Feature importance for model_skgb');"
   ]
  },
  {
   "cell_type": "code",
   "execution_count": 16,
   "metadata": {},
   "outputs": [
    {
     "data": {
      "text/plain": [
       "1.0"
      ]
     },
     "execution_count": 16,
     "metadata": {},
     "output_type": "execute_result"
    }
   ],
   "source": [
    "feat_imp.sum()"
   ]
  },
  {
   "cell_type": "markdown",
   "metadata": {},
   "source": [
    "**Option 2:** Drop-column Importance\n",
    "\n",
    "- Good, but computationally expensive because you have to train a model for each feature."
   ]
  },
  {
   "cell_type": "code",
   "execution_count": 17,
   "metadata": {},
   "outputs": [
    {
     "name": "stdout",
     "output_type": "stream",
     "text": [
      "Validation accuracy with quantity_group included 0.7722222222222223\n"
     ]
    }
   ],
   "source": [
    "# Training a model with the feature whose importance we want to evaluate\n",
    "column = 'quantity_group'\n",
    "\n",
    "model_w_col = make_pipeline(\n",
    "    OrdinalEncoder(),\n",
    "    SimpleImputer(),\n",
    "    XGBClassifier(n_estimators=20, n_jobs=-1)\n",
    ")\n",
    "\n",
    "model_w_col.fit(X_train, y_train)\n",
    "\n",
    "print(f'Validation accuracy with {column} included', model_w_col.score(X_val, y_val))"
   ]
  },
  {
   "cell_type": "code",
   "execution_count": 19,
   "metadata": {},
   "outputs": [
    {
     "name": "stdout",
     "output_type": "stream",
     "text": [
      "Validation accuracy with quantity_group dropped 0.7376262626262626\n"
     ]
    }
   ],
   "source": [
    "# Training a model with the feature whose importance we want to evaluate\n",
    "model_wo_col = make_pipeline(\n",
    "    OrdinalEncoder(),\n",
    "    SimpleImputer(),\n",
    "    XGBClassifier(n_estimators=20, n_jobs=-1)\n",
    ")\n",
    "\n",
    "model_wo_col.fit(X_train.drop(columns=column), y_train)\n",
    "\n",
    "print(f'Validation accuracy with {column} dropped', \n",
    "      model_wo_col.score(X_val.drop(columns=column), y_val))"
   ]
  },
  {
   "cell_type": "code",
   "execution_count": 21,
   "metadata": {},
   "outputs": [
    {
     "name": "stdout",
     "output_type": "stream",
     "text": [
      "Drop-column importance for quantity_group: 0.03500000000000003\n"
     ]
    }
   ],
   "source": [
    "print(f'Drop-column importance for {column}:', 0.772 - 0.737)"
   ]
  },
  {
   "cell_type": "markdown",
   "metadata": {},
   "source": [
    "**Option 3:** Permutation Importance"
   ]
  },
  {
   "cell_type": "code",
   "execution_count": 42,
   "metadata": {},
   "outputs": [
    {
     "name": "stdout",
     "output_type": "stream",
     "text": [
      "Validation Accuracy with \"quantity_group\" permuted: 0.6547979797979798\n"
     ]
    }
   ],
   "source": [
    "# By hand\n",
    "from numpy.random import permutation\n",
    "\n",
    "# Step 1: Choose a feature\n",
    "column = 'quantity_group'\n",
    "\n",
    "# Step 2: Train your model on the whole dataset\n",
    "model_xgb = make_pipeline(\n",
    "    OrdinalEncoder(),\n",
    "    SimpleImputer(),\n",
    "    XGBClassifier(n_estimators=10, random_state=42, n_jobs=10)\n",
    ")\n",
    "\n",
    "model_xgb.fit(X_train, y_train);\n",
    "\n",
    "# Step 3: Evaluate your validation metrics\n",
    "print('Validation Accuracy', model_xgb.score(X_val, y_val))\n",
    "\n",
    "# Step 4: In your validation set, permute the feature you're evaluating\n",
    "X_val_perm = X_val.copy()\n",
    "X_val_perm[column] = permutation(X_val_perm[column])\n",
    "\n",
    "# Step 5: Calculate the error metric with the permuted data\n",
    "print(f'Validation Accuracy with \"{column}\" permuted:', model_xgb.score(X_val_perm, y_val))"
   ]
  },
  {
   "cell_type": "code",
   "execution_count": 44,
   "metadata": {},
   "outputs": [],
   "source": [
    "# Using sklearn\n",
    "from sklearn.inspection import permutation_importance\n",
    "\n",
    "perm_imp = permutation_importance(model_xgb, X_val, y_val, n_jobs=10, random_state=42)"
   ]
  },
  {
   "cell_type": "code",
   "execution_count": 53,
   "metadata": {},
   "outputs": [
    {
     "data": {
      "image/png": "[encoded data removed]",
      "text/plain": [
       "<Figure size 432x288 with 1 Axes>"
      ]
     },
     "metadata": {
      "needs_background": "light"
     },
     "output_type": "display_data"
    }
   ],
   "source": [
    "# Put results into DataFrame\n",
    "data = {'importances_mean' : perm_imp['importances_mean'],\n",
    "        'importances_std' : perm_imp['importances_std']}\n",
    "\n",
    "df = pd.DataFrame(data, index=X_val.columns)\n",
    "df.sort_values('importances_mean', ascending=True, inplace=True)\n",
    "\n",
    "# Make plot\n",
    "df['importances_mean'].tail(10).plot(kind='barh')\n",
    "plt.xlabel('Importance (change in accuracy)')\n",
    "plt.ylabel('Feature')\n",
    "plt.title('Permutation importance for model_xgb');"
   ]
  },
  {
   "cell_type": "code",
   "execution_count": null,
   "metadata": {},
   "outputs": [],
   "source": []
  }
 ],
 "metadata": {
  "kernelspec": {
   "display_name": "Python 3",
   "language": "python",
   "name": "python3"
  },
  "language_info": {
   "codemirror_mode": {
    "name": "ipython",
    "version": 3
   },
   "file_extension": ".py",
   "mimetype": "text/x-python",
   "name": "python",
   "nbconvert_exporter": "python",
   "pygments_lexer": "ipython3",
   "version": "3.8.5"
  }
 },
 "nbformat": 4,
 "nbformat_minor": 4
}
